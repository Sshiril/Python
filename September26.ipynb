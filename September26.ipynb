{
  "nbformat": 4,
  "nbformat_minor": 0,
  "metadata": {
    "colab": {
      "provenance": [],
      "authorship_tag": "ABX9TyPG5maIu0/V1+qWmoC1vAf5",
      "include_colab_link": true
    },
    "kernelspec": {
      "name": "python3",
      "display_name": "Python 3"
    },
    "language_info": {
      "name": "python"
    }
  },
  "cells": [
    {
      "cell_type": "markdown",
      "metadata": {
        "id": "view-in-github",
        "colab_type": "text"
      },
      "source": [
        "<a href=\"https://colab.research.google.com/github/Sshiril/Python/blob/main/September26.ipynb\" target=\"_parent\"><img src=\"https://colab.research.google.com/assets/colab-badge.svg\" alt=\"Open In Colab\"/></a>"
      ]
    },
    {
      "cell_type": "code",
      "execution_count": 27,
      "metadata": {
        "colab": {
          "base_uri": "https://localhost:8080/"
        },
        "id": "qerq4TKuavr5",
        "outputId": "67bdb072-2df9-402b-fa45-885b25d6e661"
      },
      "outputs": [
        {
          "output_type": "execute_result",
          "data": {
            "text/plain": [
              "4"
            ]
          },
          "metadata": {},
          "execution_count": 27
        }
      ],
      "source": [
        "int(4.5)"
      ]
    },
    {
      "cell_type": "code",
      "source": [],
      "metadata": {
        "id": "3FO4wjp0ieod"
      },
      "execution_count": null,
      "outputs": []
    },
    {
      "cell_type": "markdown",
      "source": [
        "**Type Conversions**"
      ],
      "metadata": {
        "id": "Kc6OEfTkcSi5"
      }
    },
    {
      "cell_type": "code",
      "source": [
        "int(4.5)"
      ],
      "metadata": {
        "colab": {
          "base_uri": "https://localhost:8080/"
        },
        "id": "-Mk8hpRSigR1",
        "outputId": "b0554073-ff58-4145-f53a-1b494e7909d3"
      },
      "execution_count": 24,
      "outputs": [
        {
          "output_type": "execute_result",
          "data": {
            "text/plain": [
              "4"
            ]
          },
          "metadata": {},
          "execution_count": 24
        }
      ]
    },
    {
      "cell_type": "code",
      "source": [
        "float(4)"
      ],
      "metadata": {
        "colab": {
          "base_uri": "https://localhost:8080/"
        },
        "id": "n4o4_1jvaw_k",
        "outputId": "0a2e6f93-5900-492b-b2a4-0ba32325d304"
      },
      "execution_count": 2,
      "outputs": [
        {
          "output_type": "execute_result",
          "data": {
            "text/plain": [
              "4.0"
            ]
          },
          "metadata": {},
          "execution_count": 2
        }
      ]
    },
    {
      "cell_type": "code",
      "source": [
        "float(int(3.3))"
      ],
      "metadata": {
        "colab": {
          "base_uri": "https://localhost:8080/"
        },
        "id": "glcO4plraxIO",
        "outputId": "de0bca50-b5e9-4080-d2a7-bf94e71f574e"
      },
      "execution_count": 3,
      "outputs": [
        {
          "output_type": "execute_result",
          "data": {
            "text/plain": [
              "3.0"
            ]
          },
          "metadata": {},
          "execution_count": 3
        }
      ]
    },
    {
      "cell_type": "code",
      "source": [
        "int(float(3.5))"
      ],
      "metadata": {
        "colab": {
          "base_uri": "https://localhost:8080/"
        },
        "id": "5BWuTja_axP8",
        "outputId": "a312382d-3822-45a0-c8f6-e31617aab450"
      },
      "execution_count": 6,
      "outputs": [
        {
          "output_type": "execute_result",
          "data": {
            "text/plain": [
              "3"
            ]
          },
          "metadata": {},
          "execution_count": 6
        }
      ]
    },
    {
      "cell_type": "code",
      "source": [
        "int(float(3))"
      ],
      "metadata": {
        "colab": {
          "base_uri": "https://localhost:8080/"
        },
        "id": "d1ExF60LaxUY",
        "outputId": "69303637-ee39-42af-81c3-68a9cc89a829"
      },
      "execution_count": 5,
      "outputs": [
        {
          "output_type": "execute_result",
          "data": {
            "text/plain": [
              "3"
            ]
          },
          "metadata": {},
          "execution_count": 5
        }
      ]
    },
    {
      "cell_type": "code",
      "source": [],
      "metadata": {
        "id": "4tHUwrEnce6J"
      },
      "execution_count": null,
      "outputs": []
    },
    {
      "cell_type": "markdown",
      "source": [
        "**Rounding**"
      ],
      "metadata": {
        "id": "X8cm17TXcgER"
      }
    },
    {
      "cell_type": "code",
      "source": [
        "round(3.5)"
      ],
      "metadata": {
        "colab": {
          "base_uri": "https://localhost:8080/"
        },
        "id": "FJQA4swOaxXy",
        "outputId": "888f5617-461e-4c21-f985-4a0cab16ac86"
      },
      "execution_count": 7,
      "outputs": [
        {
          "output_type": "execute_result",
          "data": {
            "text/plain": [
              "4"
            ]
          },
          "metadata": {},
          "execution_count": 7
        }
      ]
    },
    {
      "cell_type": "code",
      "source": [
        "round(4.256758 , 3)"
      ],
      "metadata": {
        "colab": {
          "base_uri": "https://localhost:8080/"
        },
        "id": "cVNs4Na5axa3",
        "outputId": "2b591056-48c6-4ea6-ce12-0210689c8b74"
      },
      "execution_count": 9,
      "outputs": [
        {
          "output_type": "execute_result",
          "data": {
            "text/plain": [
              "4.257"
            ]
          },
          "metadata": {},
          "execution_count": 9
        }
      ]
    },
    {
      "cell_type": "markdown",
      "source": [
        "**MATH FUNCTIONS**"
      ],
      "metadata": {
        "id": "LMEPW2XmgSf5"
      }
    },
    {
      "cell_type": "code",
      "source": [
        "import math\n",
        "print(math.sqrt(4))\n",
        "print(math.pi)\n",
        "print(math.tan(4))"
      ],
      "metadata": {
        "colab": {
          "base_uri": "https://localhost:8080/"
        },
        "id": "o66RHoVYgQcR",
        "outputId": "2cde14c0-c054-4b0d-92dd-9e315c7b449a"
      },
      "execution_count": 23,
      "outputs": [
        {
          "output_type": "stream",
          "name": "stdout",
          "text": [
            "2.0\n",
            "3.141592653589793\n",
            "1.6197751905438615\n"
          ]
        }
      ]
    },
    {
      "cell_type": "markdown",
      "source": [
        "**Use int or float( THE TYPES) for taking input from the user**"
      ],
      "metadata": {
        "id": "5zh_egN4irN5"
      }
    },
    {
      "cell_type": "code",
      "source": [
        "#num= int(input(\"enter the number\"))\n",
        "#print(num)\n",
        "#num1= eval(input(\"enter the number\"))\n",
        "#print(num1)\n",
        "#\n",
        "num,num1=int(input(\"enter the number\"))\n",
        "print(num+num1)"
      ],
      "metadata": {
        "id": "eHC_Srlgaxel"
      },
      "execution_count": null,
      "outputs": []
    },
    {
      "cell_type": "code",
      "source": [],
      "metadata": {
        "id": "RUfNVKjLaxik"
      },
      "execution_count": null,
      "outputs": []
    }
  ]
}